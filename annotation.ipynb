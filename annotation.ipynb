{
 "cells": [
  {
   "cell_type": "code",
   "execution_count": 1,
   "metadata": {},
   "outputs": [],
   "source": [
    "import os\n",
    "import filetype\n",
    "from shutil import copyfile, move\n",
    "import pandas as pd\n",
    "import pigeonXT as pixt\n",
    "# import utils.colombe as pixt\n",
    "from ipywidgets import IntProgress, HBox, Label\n",
    "from IPython.display import clear_output, display, Image as IPythonImage\n",
    "from utils.pdf import pdfToImageFiles\n",
    "from pathlib import Path"
   ]
  },
  {
   "cell_type": "code",
   "execution_count": 2,
   "metadata": {},
   "outputs": [],
   "source": [
    "labels =['fr-id1995-recto', 'fr-id1995-verso', 'fr-id2021-recto', 'fr-id2021-verso', 'fr-passport', 'fr-rib', 'fr-kbis', 'invoice', 'document']\n",
    "\n",
    "source = 'data/'\n",
    "new = source + 'new/'\n",
    "if not os.path.exists(source + 'train'):\n",
    "    os.makedirs(source + 'train')\n",
    "csv = 'data/train.csv'\n",
    "train = source + 'train/'\n",
    "if not os.path.exists(source + 'archive'):\n",
    "    os.makedirs(source + 'archive')\n",
    "archive = source + 'archive/'\n",
    "if not os.path.exists(source + 'error'):\n",
    "    os.makedirs(source + 'error')\n",
    "error = source + 'error/'\n",
    "\n",
    "trainDf = pd.DataFrame(columns=['path', 'labels'])\n",
    "if not os.path.exists(source + 'train.csv'):\n",
    "    trainDf.to_csv(csv, mode='a', index=False, header=True)\n"
   ]
  },
  {
   "cell_type": "code",
   "execution_count": 3,
   "metadata": {},
   "outputs": [
    {
     "data": {
      "application/vnd.jupyter.widget-view+json": {
       "model_id": "4773b3f2467f41429e30c9a0922fa13f",
       "version_major": 2,
       "version_minor": 0
      },
      "text/plain": [
       "HTML(value='0 of 108 Examples annotated, Current Position: 0 ')"
      ]
     },
     "metadata": {},
     "output_type": "display_data"
    },
    {
     "data": {
      "application/vnd.jupyter.widget-view+json": {
       "model_id": "6ff71756dd4645dbaddc9bcaeb4e0df2",
       "version_major": 2,
       "version_minor": 0
      },
      "text/plain": [
       "VBox(children=(HBox(children=(ToggleButton(value=False, description='fr-id1995-recto'), ToggleButton(value=Fal…"
      ]
     },
     "metadata": {},
     "output_type": "display_data"
    },
    {
     "data": {
      "application/vnd.jupyter.widget-view+json": {
       "model_id": "322156f4fcdc402aad0f83f7535bb96d",
       "version_major": 2,
       "version_minor": 0
      },
      "text/plain": [
       "Output()"
      ]
     },
     "metadata": {},
     "output_type": "display_data"
    }
   ],
   "source": [
    "def saveFile(path, labels):\n",
    "    move(path, train + Path(path).name)\n",
    "    df = pd.DataFrame([[Path(path).name, ' '.join(labels)]])\n",
    "    df.to_csv(csv, mode='a', index=False, header=False)\n",
    "\n",
    "def prepare ():\n",
    "    files = [f for f in os.listdir(new) if os.path.isfile(new + f)]\n",
    "    for file in files:\n",
    "        kind = filetype.guess(new + file)\n",
    "    \n",
    "        if kind is None:\n",
    "            move(new + file, error + file)\n",
    "            continue\n",
    "\n",
    "        if 'application/pdf' == kind.mime:\n",
    "            pdfToImageFiles(new + file, new)\n",
    "            move(new + file, archive + file)\n",
    "\n",
    "def listdir_fullpath(d):\n",
    "    return ['./' + os.path.join(d, f) for f in os.listdir(d)]\n",
    "\n",
    "def processFiles():\n",
    "    annotations = pixt.annotate(\n",
    "        listdir_fullpath(new), \n",
    "        options=labels, \n",
    "        task_type='multilabel-classification',\n",
    "        buttons_in_a_row=5,\n",
    "        reset_buttons_after_click=True,\n",
    "        include_next=True,\n",
    "        include_back=True,\n",
    "        example_column='path',\n",
    "        display_fn=lambda filename: display(IPythonImage(filename, width = 400, height = 400)),\n",
    "        example_process_fn=saveFile\n",
    "    )\n",
    "\n",
    "prepare()\n",
    "processFiles()"
   ]
  },
  {
   "cell_type": "code",
   "execution_count": null,
   "metadata": {},
   "outputs": [],
   "source": []
  }
 ],
 "metadata": {
  "kernelspec": {
   "display_name": "Python 3.8.2 64-bit ('base': conda)",
   "language": "python",
   "name": "python382jvsc74a57bd0641e858030775f7d61f319dcc9cc20cb86db20e85d6afdd70cb11cb01b18b9c7"
  },
  "language_info": {
   "codemirror_mode": {
    "name": "ipython",
    "version": 3
   },
   "file_extension": ".py",
   "mimetype": "text/x-python",
   "name": "python",
   "nbconvert_exporter": "python",
   "pygments_lexer": "ipython3",
   "version": "3.8.2"
  },
  "metadata": {
   "interpreter": {
    "hash": "641e858030775f7d61f319dcc9cc20cb86db20e85d6afdd70cb11cb01b18b9c7"
   }
  }
 },
 "nbformat": 4,
 "nbformat_minor": 4
}
